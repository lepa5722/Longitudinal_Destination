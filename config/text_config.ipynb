{
 "cells": [
  {
   "cell_type": "code",
   "execution_count": 6,
   "metadata": {},
   "outputs": [
    {
     "name": "stdout",
     "output_type": "stream",
     "text": [
      "{'DNS_ADDRESS': ['8.8.8.8', '8.8.4.4', '155.33.33.70', '155.33.33.75'],\n",
      " 'IP_CONFIGS': {'device_dataset': 'common_dataset',\n",
      "                'exp_year': ['2019', '2021', '2022', '2023', '2024'],\n",
      "                'exp_year_optional_month': ['2019',\n",
      "                                            '2021',\n",
      "                                            '2022-aug',\n",
      "                                            '2022-nov',\n",
      "                                            '2023',\n",
      "                                            '2024-summer'],\n",
      "                'experiments': ['power', 'activity', 'idle']},\n",
      " 'MAC_ADDRESS_FILE': './devices.txt',\n",
      " 'ROUTER_MAC': '36:22:7b:87:51:6f',\n",
      " 'Testing': False,\n",
      " 'dataset_root_path': '/net/data/iot-longitudinal/datasets',\n",
      " 'device_list_path': '/net/data/iot-longitudinal/input_device_list'}\n"
     ]
    },
    {
     "data": {
      "text/plain": [
       "['2019', '2021', '2022', '2023', '2024']"
      ]
     },
     "execution_count": 6,
     "metadata": {},
     "output_type": "execute_result"
    }
   ],
   "source": [
    "import yaml\n",
    "from pprint import pprint\n",
    "\n",
    "with open(\"config.yaml\") as f:\n",
    "    cfg = yaml.load(f, Loader=yaml.FullLoader)\n",
    "    \n",
    "pprint(cfg)\n",
    "cfg['IP_CONFIGS']['exp_year']"
   ]
  },
  {
   "cell_type": "code",
   "execution_count": 7,
   "metadata": {},
   "outputs": [],
   "source": [
    "import json\n",
    "aug_2022_file = '/home/hutr/iot-longitudinal/inputs/2022-aug-datasets_device_timeframes.json'\n",
    "aug_2022 = json.load(open(aug_2022_file))\n",
    "new_aug_2022 = {}\n",
    "for device in aug_2022:\n",
    "    if device == 'dryer':\n",
    "        new_aug_2022['dryer'] = aug_2022['dryer']\n",
    "    else:\n",
    "        tmp_list = aug_2022[device]\n",
    "        new_tmp_list = []\n",
    "        for time in tmp_list:\n",
    "            if '10-' in time or '11-' in time:\n",
    "                new_tmp_list.append(time)\n",
    "        if new_tmp_list:\n",
    "            new_aug_2022[device] = new_tmp_list\n",
    "json.dump(new_aug_2022, open(aug_2022_file, 'w'), indent=4)"
   ]
  },
  {
   "cell_type": "code",
   "execution_count": null,
   "metadata": {},
   "outputs": [],
   "source": []
  }
 ],
 "metadata": {
  "kernelspec": {
   "display_name": "venv-longitudinal",
   "language": "python",
   "name": "python3"
  },
  "language_info": {
   "codemirror_mode": {
    "name": "ipython",
    "version": 3
   },
   "file_extension": ".py",
   "mimetype": "text/x-python",
   "name": "python",
   "nbconvert_exporter": "python",
   "pygments_lexer": "ipython3",
   "version": "3.12.3"
  }
 },
 "nbformat": 4,
 "nbformat_minor": 2
}
