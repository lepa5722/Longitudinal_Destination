{
 "cells": [
  {
   "cell_type": "code",
   "execution_count": 2,
   "metadata": {},
   "outputs": [
    {
     "name": "stdout",
     "output_type": "stream",
     "text": [
      "2019 idle 563 14\n",
      "2019 activity 716 148\n",
      "2019 power 499 16\n",
      "2019: 1778 178\n",
      "2021 idle 3097 601\n",
      "2021 activity 591 257\n",
      "2021 power 72 9\n",
      "2021: 3760 867\n",
      "2022 idle 4204 70\n",
      "2022 activity 355 98\n",
      "2022 power 47 0\n",
      "2022: 4606 168\n",
      "2023 idle 2306 15\n",
      "2023 activity 258 25\n",
      "2023 power 902 17\n",
      "2023: 3466 57\n",
      "2024 idle 2787 13\n",
      "2024 activity 82 10\n",
      "2024 power 412 125\n",
      "2024: 3281 148\n",
      "Total: 16891\n",
      "Untranslated: 1418\n",
      "Untranslated ratio: 0.08395003256171926\n"
     ]
    }
   ],
   "source": [
    "import matplotlib.pyplot as plt\n",
    "import pandas as pd\n",
    "from collections import defaultdict\n",
    "\n",
    "input_base_dir = '/home/hutr/iot-longitudinal/output_destination/all_devices_remove_duplicates'\n",
    "input_base_dir = '/home/hutr/iot-longitudinal/output_destination/common_devices'\n",
    "years = ['2019', '2021', '2022', '2023', '2024']\n",
    "exps = ['idle', 'activity', 'power']\n",
    "total_dict = defaultdict(int)\n",
    "untranslated_dict = defaultdict(int)\n",
    "for year in years:\n",
    "    for exp in exps:\n",
    "        input_dir = f'{input_base_dir}/{year}{exp}/ip_list'\n",
    "        df = pd.read_csv(f'{input_dir}/_untranslated_ip_stats_with_all_dns.csv')\n",
    "        # extract the last two numbers of last row: Total,56.1034275405893,933,1663\n",
    "        total = df.iloc[-1, -1]\n",
    "        untranslated_ips = df.iloc[-1, -2]\n",
    "        total_dict[year] += total\n",
    "        untranslated_dict[year] += untranslated_ips\n",
    "        print(f\"{year} {exp}\", total, untranslated_ips)\n",
    "    print(f\"{year}:\", total_dict[year], untranslated_dict[year])\n",
    "print(\"Total:\", sum(total_dict.values()))\n",
    "print(\"Untranslated:\", sum(untranslated_dict.values()))\n",
    "print(\"Untranslated ratio:\", sum(untranslated_dict.values()) / sum(total_dict.values()))"
   ]
  },
  {
   "cell_type": "markdown",
   "metadata": {},
   "source": [
    "### Common_devices:\n",
    "2019 idle 563 14\n",
    "2019 activity 716 148\n",
    "2019 power 499 16\n",
    "2019: 1778 178\n",
    "2021 idle 3097 601\n",
    "2021 activity 591 257\n",
    "2021 power 72 9\n",
    "2021: 3760 867\n",
    "2022 idle 4204 73\n",
    "2022 activity 355 98\n",
    "2022 power 47 0\n",
    "2022: 4606 171\n",
    "2023 idle 2306 16\n",
    "2023 activity 258 25\n",
    "2023 power 902 22\n",
    "2023: 3466 63\n",
    "2024 idle 2787 13\n",
    "2024 activity 82 10\n",
    "2024 power 412 140\n",
    "2024: 3281 163\n",
    "Total: 16891\n",
    "Untranslated: 1442\n",
    "Untranslated ratio: 0.08537090758392044"
   ]
  },
  {
   "cell_type": "markdown",
   "metadata": {},
   "source": [
    "### All devices:\n",
    "2019 idle 1423 144\n",
    "2019 activity 1142 196\n",
    "2019 power 902 42\n",
    "2019: 3467 382\n",
    "2021 idle 12514 1234\n",
    "2021 activity 1156 342\n",
    "2021 power 143 41\n",
    "2021: 13813 1617\n",
    "2022 idle 17631 269\n",
    "2022 activity 1852 394\n",
    "2022 power 251 67\n",
    "2022: 19734 730\n",
    "2023 idle 16366 432\n",
    "2023 activity 693 83\n",
    "2023 power 3362 100\n",
    "2023: 20421 615\n",
    "2024 idle 17481 154\n",
    "2024 activity 430 63\n",
    "2024 power 1604 593\n",
    "2024: 19515 810\n",
    "Total: 76950\n",
    "Untranslated: 4154\n",
    "Untranslated ratio: 0.05398310591293048"
   ]
  },
  {
   "cell_type": "markdown",
   "metadata": {},
   "source": []
  }
 ],
 "metadata": {
  "kernelspec": {
   "display_name": "venv-longitudinal",
   "language": "python",
   "name": "python3"
  },
  "language_info": {
   "codemirror_mode": {
    "name": "ipython",
    "version": 3
   },
   "file_extension": ".py",
   "mimetype": "text/x-python",
   "name": "python",
   "nbconvert_exporter": "python",
   "pygments_lexer": "ipython3",
   "version": "3.12.3"
  }
 },
 "nbformat": 4,
 "nbformat_minor": 2
}
